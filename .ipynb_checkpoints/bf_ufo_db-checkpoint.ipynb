{
 "cells": [
  {
   "cell_type": "code",
   "execution_count": 36,
   "metadata": {},
   "outputs": [],
   "source": [
    "import pandas as pd\n",
    "from sqlalchemy import create_engine\n",
    "#extras\n",
    "import os"
   ]
  },
  {
   "cell_type": "code",
   "execution_count": 37,
   "metadata": {},
   "outputs": [],
   "source": [
    "# tried to merge... did not work.\n",
    "\n",
    "#a = pd.read_csv(\"Resources/ufo.complete.csv\")\n",
    "#b = pd.read_csv(\"Resources/bfro_reports_geocoded.csv\")\n",
    "#b = b.dropna(axis=1)\n",
    "#merged = a.merge(b, on='state')\n",
    "#merged.to_csv(\"bfufo.csv\", index=False)"
   ]
  },
  {
   "cell_type": "code",
   "execution_count": 38,
   "metadata": {},
   "outputs": [
    {
     "name": "stderr",
     "output_type": "stream",
     "text": [
      "b'Skipping line 878: expected 11 fields, saw 12\\nSkipping line 1713: expected 11 fields, saw 12\\nSkipping line 1815: expected 11 fields, saw 12\\nSkipping line 2858: expected 11 fields, saw 12\\nSkipping line 3734: expected 11 fields, saw 12\\nSkipping line 4756: expected 11 fields, saw 12\\nSkipping line 5389: expected 11 fields, saw 12\\nSkipping line 5423: expected 11 fields, saw 12\\nSkipping line 5614: expected 11 fields, saw 12\\nSkipping line 5849: expected 11 fields, saw 12\\nSkipping line 6093: expected 11 fields, saw 12\\nSkipping line 7516: expected 11 fields, saw 12\\nSkipping line 7626: expected 11 fields, saw 12\\nSkipping line 8893: expected 11 fields, saw 12\\nSkipping line 9015: expected 11 fields, saw 12\\nSkipping line 9571: expected 11 fields, saw 12\\nSkipping line 9620: expected 11 fields, saw 12\\nSkipping line 9751: expected 11 fields, saw 12\\nSkipping line 10157: expected 11 fields, saw 12\\nSkipping line 10427: expected 11 fields, saw 12\\nSkipping line 12035: expected 11 fields, saw 12\\nSkipping line 12113: expected 11 fields, saw 12\\nSkipping line 12144: expected 11 fields, saw 12\\nSkipping line 12891: expected 11 fields, saw 12\\nSkipping line 14613: expected 11 fields, saw 12\\nSkipping line 16031: expected 11 fields, saw 12\\nSkipping line 16344: expected 11 fields, saw 12\\nSkipping line 16399: expected 11 fields, saw 12\\nSkipping line 16635: expected 11 fields, saw 12\\nSkipping line 16722: expected 11 fields, saw 12\\nSkipping line 18241: expected 11 fields, saw 12\\nSkipping line 18367: expected 11 fields, saw 12\\nSkipping line 18479: expected 11 fields, saw 12\\nSkipping line 19814: expected 11 fields, saw 12\\nSkipping line 19859: expected 11 fields, saw 12\\nSkipping line 19909: expected 11 fields, saw 12\\nSkipping line 19935: expected 11 fields, saw 12\\nSkipping line 20386: expected 11 fields, saw 12\\nSkipping line 20533: expected 11 fields, saw 12\\nSkipping line 20764: expected 11 fields, saw 12\\nSkipping line 21145: expected 11 fields, saw 12\\nSkipping line 21291: expected 11 fields, saw 12\\nSkipping line 21309: expected 11 fields, saw 12\\nSkipping line 21576: expected 11 fields, saw 12\\nSkipping line 21966: expected 11 fields, saw 12\\nSkipping line 22092: expected 11 fields, saw 12\\nSkipping line 22108: expected 11 fields, saw 12\\nSkipping line 22236: expected 11 fields, saw 12\\nSkipping line 22785: expected 11 fields, saw 12\\nSkipping line 23143: expected 11 fields, saw 12\\nSkipping line 23145: expected 11 fields, saw 12\\nSkipping line 23251: expected 11 fields, saw 12\\nSkipping line 23369: expected 11 fields, saw 12\\nSkipping line 23464: expected 11 fields, saw 12\\nSkipping line 23622: expected 11 fields, saw 12\\nSkipping line 23732: expected 11 fields, saw 12\\nSkipping line 23924: expected 11 fields, saw 12\\nSkipping line 24696: expected 11 fields, saw 12\\nSkipping line 25543: expected 11 fields, saw 12\\nSkipping line 25703: expected 11 fields, saw 12\\nSkipping line 25815: expected 11 fields, saw 12\\nSkipping line 26185: expected 11 fields, saw 12\\nSkipping line 27424: expected 11 fields, saw 12\\nSkipping line 27465: expected 11 fields, saw 12\\nSkipping line 28083: expected 11 fields, saw 12\\nSkipping line 28282: expected 11 fields, saw 12\\nSkipping line 28460: expected 11 fields, saw 12\\nSkipping line 28745: expected 11 fields, saw 12\\nSkipping line 29674: expected 11 fields, saw 12\\nSkipping line 30342: expected 11 fields, saw 12\\nSkipping line 30417: expected 11 fields, saw 12\\nSkipping line 31154: expected 11 fields, saw 12\\nSkipping line 31308: expected 11 fields, saw 12\\nSkipping line 32198: expected 11 fields, saw 12\\nSkipping line 32439: expected 11 fields, saw 12\\nSkipping line 32675: expected 11 fields, saw 12\\nSkipping line 33134: expected 11 fields, saw 12\\nSkipping line 33442: expected 11 fields, saw 12\\nSkipping line 34184: expected 11 fields, saw 12\\nSkipping line 34731: expected 11 fields, saw 12\\nSkipping line 34869: expected 11 fields, saw 12\\nSkipping line 35107: expected 11 fields, saw 12\\nSkipping line 35300: expected 11 fields, saw 12\\nSkipping line 35396: expected 11 fields, saw 12\\nSkipping line 35913: expected 11 fields, saw 12\\nSkipping line 36445: expected 11 fields, saw 12\\nSkipping line 36693: expected 11 fields, saw 12\\nSkipping line 36723: expected 11 fields, saw 12\\nSkipping line 37293: expected 11 fields, saw 12\\nSkipping line 37361: expected 11 fields, saw 12\\nSkipping line 37980: expected 11 fields, saw 12\\nSkipping line 38090: expected 11 fields, saw 12\\nSkipping line 38197: expected 11 fields, saw 12\\nSkipping line 39431: expected 11 fields, saw 12\\nSkipping line 39598: expected 11 fields, saw 12\\nSkipping line 39679: expected 11 fields, saw 12\\nSkipping line 39794: expected 11 fields, saw 12\\nSkipping line 40021: expected 11 fields, saw 12\\nSkipping line 40430: expected 11 fields, saw 12\\nSkipping line 42858: expected 11 fields, saw 12\\nSkipping line 43662: expected 11 fields, saw 12\\nSkipping line 44162: expected 11 fields, saw 12\\nSkipping line 45529: expected 11 fields, saw 12\\nSkipping line 46678: expected 11 fields, saw 12\\nSkipping line 46788: expected 11 fields, saw 12\\nSkipping line 46811: expected 11 fields, saw 12\\nSkipping line 46924: expected 11 fields, saw 12\\nSkipping line 47287: expected 11 fields, saw 12\\nSkipping line 47377: expected 11 fields, saw 12\\nSkipping line 47419: expected 11 fields, saw 12\\nSkipping line 47492: expected 11 fields, saw 12\\nSkipping line 47629: expected 11 fields, saw 12\\nSkipping line 48125: expected 11 fields, saw 12\\nSkipping line 48932: expected 11 fields, saw 12\\nSkipping line 48971: expected 11 fields, saw 12\\nSkipping line 49440: expected 11 fields, saw 12\\nSkipping line 49457: expected 11 fields, saw 12\\nSkipping line 50670: expected 11 fields, saw 12\\nSkipping line 50960: expected 11 fields, saw 12\\nSkipping line 51275: expected 11 fields, saw 12\\nSkipping line 51649: expected 11 fields, saw 12\\nSkipping line 51993: expected 11 fields, saw 12\\nSkipping line 52023: expected 11 fields, saw 12\\nSkipping line 52059: expected 11 fields, saw 12\\nSkipping line 52259: expected 11 fields, saw 12\\nSkipping line 52368: expected 11 fields, saw 12\\nSkipping line 52783: expected 11 fields, saw 12\\nSkipping line 53064: expected 11 fields, saw 12\\nSkipping line 53135: expected 11 fields, saw 12\\nSkipping line 53514: expected 11 fields, saw 12\\nSkipping line 54092: expected 11 fields, saw 12\\nSkipping line 55403: expected 11 fields, saw 12\\nSkipping line 57476: expected 11 fields, saw 12\\nSkipping line 58646: expected 11 fields, saw 12\\nSkipping line 58808: expected 11 fields, saw 12\\nSkipping line 59119: expected 11 fields, saw 12\\nSkipping line 59727: expected 11 fields, saw 12\\nSkipping line 60386: expected 11 fields, saw 12\\nSkipping line 60478: expected 11 fields, saw 12\\nSkipping line 60542: expected 11 fields, saw 12\\nSkipping line 60913: expected 11 fields, saw 12\\nSkipping line 61032: expected 11 fields, saw 12\\nSkipping line 61640: expected 11 fields, saw 12\\nSkipping line 61732: expected 11 fields, saw 12\\nSkipping line 62029: expected 11 fields, saw 12\\nSkipping line 62219: expected 11 fields, saw 12\\nSkipping line 63657: expected 11 fields, saw 12\\nSkipping line 64712: expected 11 fields, saw 12\\n'\n",
      "b'Skipping line 65881: expected 11 fields, saw 12\\nSkipping line 66093: expected 11 fields, saw 12\\nSkipping line 66095: expected 11 fields, saw 12\\nSkipping line 66476: expected 11 fields, saw 12\\nSkipping line 66549: expected 11 fields, saw 12\\nSkipping line 66550: expected 11 fields, saw 12\\nSkipping line 68102: expected 11 fields, saw 12\\nSkipping line 69441: expected 11 fields, saw 12\\nSkipping line 70104: expected 11 fields, saw 12\\nSkipping line 70452: expected 11 fields, saw 12\\nSkipping line 70642: expected 11 fields, saw 12\\nSkipping line 70644: expected 11 fields, saw 12\\nSkipping line 70716: expected 11 fields, saw 12\\nSkipping line 71345: expected 11 fields, saw 12\\nSkipping line 71634: expected 11 fields, saw 12\\nSkipping line 72091: expected 11 fields, saw 12\\nSkipping line 72119: expected 11 fields, saw 12\\nSkipping line 73543: expected 11 fields, saw 12\\nSkipping line 74654: expected 11 fields, saw 12\\nSkipping line 74785: expected 11 fields, saw 12\\nSkipping line 74918: expected 11 fields, saw 12\\nSkipping line 75062: expected 11 fields, saw 12\\nSkipping line 75346: expected 11 fields, saw 12\\nSkipping line 75416: expected 11 fields, saw 12\\nSkipping line 75677: expected 11 fields, saw 12\\nSkipping line 75833: expected 11 fields, saw 12\\nSkipping line 76117: expected 11 fields, saw 12\\nSkipping line 76834: expected 11 fields, saw 12\\nSkipping line 77540: expected 11 fields, saw 12\\nSkipping line 77568: expected 11 fields, saw 12\\nSkipping line 77607: expected 11 fields, saw 12\\nSkipping line 77871: expected 11 fields, saw 12\\nSkipping line 78117: expected 11 fields, saw 12\\nSkipping line 78526: expected 11 fields, saw 12\\nSkipping line 78605: expected 11 fields, saw 12\\nSkipping line 79151: expected 11 fields, saw 12\\nSkipping line 79945: expected 11 fields, saw 12\\nSkipping line 80156: expected 11 fields, saw 12\\nSkipping line 80328: expected 11 fields, saw 12\\nSkipping line 80382: expected 11 fields, saw 12\\nSkipping line 80421: expected 11 fields, saw 12\\nSkipping line 80503: expected 11 fields, saw 12\\nSkipping line 82071: expected 11 fields, saw 12\\nSkipping line 82566: expected 11 fields, saw 12\\nSkipping line 86123: expected 11 fields, saw 12\\nSkipping line 87218: expected 11 fields, saw 12\\nSkipping line 87457: expected 11 fields, saw 12\\nSkipping line 87579: expected 11 fields, saw 12\\n'\n"
     ]
    },
    {
     "data": {
      "text/html": [
       "<div>\n",
       "<style scoped>\n",
       "    .dataframe tbody tr th:only-of-type {\n",
       "        vertical-align: middle;\n",
       "    }\n",
       "\n",
       "    .dataframe tbody tr th {\n",
       "        vertical-align: top;\n",
       "    }\n",
       "\n",
       "    .dataframe thead th {\n",
       "        text-align: right;\n",
       "    }\n",
       "</style>\n",
       "<table border=\"1\" class=\"dataframe\">\n",
       "  <thead>\n",
       "    <tr style=\"text-align: right;\">\n",
       "      <th></th>\n",
       "      <th>datetime</th>\n",
       "      <th>city</th>\n",
       "      <th>state</th>\n",
       "      <th>country</th>\n",
       "      <th>shape</th>\n",
       "      <th>duration (seconds)</th>\n",
       "      <th>duration (hours/min)</th>\n",
       "      <th>comments</th>\n",
       "      <th>date posted</th>\n",
       "      <th>latitude</th>\n",
       "      <th>longitude</th>\n",
       "    </tr>\n",
       "  </thead>\n",
       "  <tbody>\n",
       "    <tr>\n",
       "      <th>0</th>\n",
       "      <td>10/10/1949 20:30</td>\n",
       "      <td>san marcos</td>\n",
       "      <td>tx</td>\n",
       "      <td>us</td>\n",
       "      <td>cylinder</td>\n",
       "      <td>2700</td>\n",
       "      <td>45 minutes</td>\n",
       "      <td>This event took place in early fall around 194...</td>\n",
       "      <td>4/27/2004</td>\n",
       "      <td>29.8830556</td>\n",
       "      <td>-97.941111</td>\n",
       "    </tr>\n",
       "  </tbody>\n",
       "</table>\n",
       "</div>"
      ],
      "text/plain": [
       "           datetime        city state country     shape duration (seconds)  \\\n",
       "0  10/10/1949 20:30  san marcos    tx      us  cylinder               2700   \n",
       "\n",
       "  duration (hours/min)                                           comments  \\\n",
       "0           45 minutes  This event took place in early fall around 194...   \n",
       "\n",
       "  date posted    latitude  longitude  \n",
       "0   4/27/2004  29.8830556 -97.941111  "
      ]
     },
     "execution_count": 38,
     "metadata": {},
     "output_type": "execute_result"
    }
   ],
   "source": [
    "csv_file = \"Resources/ufo.complete.csv\"\n",
    "ufo_data_df = pd.read_csv(csv_file, error_bad_lines=False)\n",
    "ufo_data_df.head(1)"
   ]
  },
  {
   "cell_type": "code",
   "execution_count": 39,
   "metadata": {},
   "outputs": [
    {
     "data": {
      "text/html": [
       "<div>\n",
       "<style scoped>\n",
       "    .dataframe tbody tr th:only-of-type {\n",
       "        vertical-align: middle;\n",
       "    }\n",
       "\n",
       "    .dataframe tbody tr th {\n",
       "        vertical-align: top;\n",
       "    }\n",
       "\n",
       "    .dataframe thead th {\n",
       "        text-align: right;\n",
       "    }\n",
       "</style>\n",
       "<table border=\"1\" class=\"dataframe\">\n",
       "  <thead>\n",
       "    <tr style=\"text-align: right;\">\n",
       "      <th></th>\n",
       "      <th>state</th>\n",
       "      <th>observed</th>\n",
       "      <th>date</th>\n",
       "      <th>latitude</th>\n",
       "      <th>longitude</th>\n",
       "      <th>location_details</th>\n",
       "    </tr>\n",
       "  </thead>\n",
       "  <tbody>\n",
       "    <tr>\n",
       "      <th>0</th>\n",
       "      <td>ak</td>\n",
       "      <td>Ed L. was salmon fishing with a companion in P...</td>\n",
       "      <td>NaN</td>\n",
       "      <td>NaN</td>\n",
       "      <td>NaN</td>\n",
       "      <td>East side of Prince William Sound</td>\n",
       "    </tr>\n",
       "  </tbody>\n",
       "</table>\n",
       "</div>"
      ],
      "text/plain": [
       "  state                                           observed date  latitude  \\\n",
       "0    ak  Ed L. was salmon fishing with a companion in P...  NaN       NaN   \n",
       "\n",
       "   longitude                   location_details  \n",
       "0        NaN  East side of Prince William Sound  "
      ]
     },
     "execution_count": 39,
     "metadata": {},
     "output_type": "execute_result"
    }
   ],
   "source": [
    "#clean up data to colums needed.\n",
    "new_UFOBF_data_df = bf_data_df[['state', 'observed', 'date', 'latitude', 'longitude', 'location_details']].copy()\n",
    "new_UFOBF_data_df.head(1)"
   ]
  },
  {
   "cell_type": "code",
   "execution_count": 40,
   "metadata": {},
   "outputs": [
    {
     "data": {
      "text/html": [
       "<div>\n",
       "<style scoped>\n",
       "    .dataframe tbody tr th:only-of-type {\n",
       "        vertical-align: middle;\n",
       "    }\n",
       "\n",
       "    .dataframe tbody tr th {\n",
       "        vertical-align: top;\n",
       "    }\n",
       "\n",
       "    .dataframe thead th {\n",
       "        text-align: right;\n",
       "    }\n",
       "</style>\n",
       "<table border=\"1\" class=\"dataframe\">\n",
       "  <thead>\n",
       "    <tr style=\"text-align: right;\">\n",
       "      <th></th>\n",
       "      <th>observed</th>\n",
       "      <th>location_details</th>\n",
       "      <th>county</th>\n",
       "      <th>state</th>\n",
       "      <th>state name</th>\n",
       "      <th>State Abr</th>\n",
       "      <th>State Name Table</th>\n",
       "      <th>State Abr Table</th>\n",
       "      <th>season</th>\n",
       "      <th>title</th>\n",
       "      <th>latitude</th>\n",
       "      <th>longitude</th>\n",
       "      <th>date</th>\n",
       "      <th>number</th>\n",
       "    </tr>\n",
       "  </thead>\n",
       "  <tbody>\n",
       "    <tr>\n",
       "      <th>0</th>\n",
       "      <td>Ed L. was salmon fishing with a companion in P...</td>\n",
       "      <td>East side of Prince William Sound</td>\n",
       "      <td>Valdez-Chitina-Whittier County</td>\n",
       "      <td>ak</td>\n",
       "      <td>Alaska</td>\n",
       "      <td>AK</td>\n",
       "      <td>Alabama</td>\n",
       "      <td>AL</td>\n",
       "      <td>Fall</td>\n",
       "      <td>NaN</td>\n",
       "      <td>NaN</td>\n",
       "      <td>NaN</td>\n",
       "      <td>NaN</td>\n",
       "      <td>1261.0</td>\n",
       "    </tr>\n",
       "  </tbody>\n",
       "</table>\n",
       "</div>"
      ],
      "text/plain": [
       "                                            observed  \\\n",
       "0  Ed L. was salmon fishing with a companion in P...   \n",
       "\n",
       "                    location_details                          county state  \\\n",
       "0  East side of Prince William Sound  Valdez-Chitina-Whittier County    ak   \n",
       "\n",
       "  state name State Abr State Name Table State Abr Table season title  \\\n",
       "0     Alaska        AK          Alabama              AL   Fall   NaN   \n",
       "\n",
       "   latitude  longitude date  number  \n",
       "0       NaN        NaN  NaN  1261.0  "
      ]
     },
     "execution_count": 40,
     "metadata": {},
     "output_type": "execute_result"
    }
   ],
   "source": [
    "# Estract info from CSV file.\n",
    "\n",
    "csv_file = \"Resources/clean_bf_reports.csv\"\n",
    "bf_data_df = pd.read_csv(csv_file)\n",
    "bf_data_df.head(1)"
   ]
  },
  {
   "cell_type": "code",
   "execution_count": 45,
   "metadata": {},
   "outputs": [
    {
     "data": {
      "text/html": [
       "<div>\n",
       "<style scoped>\n",
       "    .dataframe tbody tr th:only-of-type {\n",
       "        vertical-align: middle;\n",
       "    }\n",
       "\n",
       "    .dataframe tbody tr th {\n",
       "        vertical-align: top;\n",
       "    }\n",
       "\n",
       "    .dataframe thead th {\n",
       "        text-align: right;\n",
       "    }\n",
       "</style>\n",
       "<table border=\"1\" class=\"dataframe\">\n",
       "  <thead>\n",
       "    <tr style=\"text-align: right;\">\n",
       "      <th></th>\n",
       "      <th>state</th>\n",
       "      <th>title</th>\n",
       "      <th>date</th>\n",
       "      <th>latitude</th>\n",
       "      <th>longitude</th>\n",
       "      <th>location_details</th>\n",
       "    </tr>\n",
       "  </thead>\n",
       "  <tbody>\n",
       "    <tr>\n",
       "      <th>0</th>\n",
       "      <td>ak</td>\n",
       "      <td>NaN</td>\n",
       "      <td>NaN</td>\n",
       "      <td>NaN</td>\n",
       "      <td>NaN</td>\n",
       "      <td>East side of Prince William Sound</td>\n",
       "    </tr>\n",
       "    <tr>\n",
       "      <th>1</th>\n",
       "      <td>nj</td>\n",
       "      <td>NaN</td>\n",
       "      <td>NaN</td>\n",
       "      <td>NaN</td>\n",
       "      <td>NaN</td>\n",
       "      <td>the road is off us rt 80, i dont know the exit...</td>\n",
       "    </tr>\n",
       "    <tr>\n",
       "      <th>2</th>\n",
       "      <td>nh</td>\n",
       "      <td>Report 55269: Dawn sighting at Stevens Brook o...</td>\n",
       "      <td>6/7/16</td>\n",
       "      <td>43.41549</td>\n",
       "      <td>-72.33093</td>\n",
       "      <td>Close to Claremont down 120 not far from Kings...</td>\n",
       "    </tr>\n",
       "  </tbody>\n",
       "</table>\n",
       "</div>"
      ],
      "text/plain": [
       "  state                                              title    date  latitude  \\\n",
       "0    ak                                                NaN     NaN       NaN   \n",
       "1    nj                                                NaN     NaN       NaN   \n",
       "2    nh  Report 55269: Dawn sighting at Stevens Brook o...  6/7/16  43.41549   \n",
       "\n",
       "   longitude                                   location_details  \n",
       "0        NaN                  East side of Prince William Sound  \n",
       "1        NaN  the road is off us rt 80, i dont know the exit...  \n",
       "2  -72.33093  Close to Claremont down 120 not far from Kings...  "
      ]
     },
     "execution_count": 45,
     "metadata": {},
     "output_type": "execute_result"
    }
   ],
   "source": [
    "#clean up data to colums needed.\n",
    "new_BF_data_df = bf_data_df[['state', 'title', 'date', 'latitude', 'longitude', 'location_details']].copy()\n",
    "new_BF_data_df.head(3)"
   ]
  },
  {
   "cell_type": "code",
   "execution_count": 41,
   "metadata": {},
   "outputs": [],
   "source": [
    "#tried to get second csv file.\n",
    "#csv_file = \"Resources/ufo.complete.csv\"\n",
    "#bf_data_df = pd.read_csv(csv_file)\n",
    "#bf_data_df.head(1)"
   ]
  },
  {
   "cell_type": "code",
   "execution_count": null,
   "metadata": {},
   "outputs": [],
   "source": []
  },
  {
   "cell_type": "code",
   "execution_count": 42,
   "metadata": {},
   "outputs": [],
   "source": [
    "#Connect to local database\n",
    "\n",
    "# <username>:<password>:<pg admin>@local host>:<5432/db_name>\"\"\n",
    "#rds_connection_string = \"<insert user name>:<insert password>@localhost:5432/ufo_bf_db\"\n",
    "#engine = create_engine(f'postgresql://{rds_connection_string}')"
   ]
  },
  {
   "cell_type": "code",
   "execution_count": null,
   "metadata": {},
   "outputs": [],
   "source": []
  },
  {
   "cell_type": "code",
   "execution_count": null,
   "metadata": {},
   "outputs": [],
   "source": []
  }
 ],
 "metadata": {
  "kernelspec": {
   "display_name": "Python 3",
   "language": "python",
   "name": "python3"
  },
  "language_info": {
   "codemirror_mode": {
    "name": "ipython",
    "version": 3
   },
   "file_extension": ".py",
   "mimetype": "text/x-python",
   "name": "python",
   "nbconvert_exporter": "python",
   "pygments_lexer": "ipython3",
   "version": "3.7.3"
  }
 },
 "nbformat": 4,
 "nbformat_minor": 2
}
